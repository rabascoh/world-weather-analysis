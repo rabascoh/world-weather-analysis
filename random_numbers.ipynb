{
 "cells": [
  {
   "cell_type": "code",
   "execution_count": 13,
   "id": "273acfdd",
   "metadata": {},
   "outputs": [],
   "source": [
    "# Import the random module.\n",
    "import random\n",
    "# Import the NumPy module.\n",
    "import numpy as np\n",
    "# Import timeit.\n",
    "import timeit"
   ]
  },
  {
   "cell_type": "code",
   "execution_count": 2,
   "id": "e012b317",
   "metadata": {},
   "outputs": [
    {
     "data": {
      "text/plain": [
       "0.6111688780263447"
      ]
     },
     "execution_count": 2,
     "metadata": {},
     "output_type": "execute_result"
    }
   ],
   "source": [
    "random.random()"
   ]
  },
  {
   "cell_type": "code",
   "execution_count": 4,
   "id": "e89bc2d2",
   "metadata": {},
   "outputs": [
    {
     "data": {
      "text/plain": [
       "-5"
      ]
     },
     "execution_count": 4,
     "metadata": {},
     "output_type": "execute_result"
    }
   ],
   "source": [
    "random.randint(-90, 90)"
   ]
  },
  {
   "cell_type": "code",
   "execution_count": 6,
   "id": "3e02dac9",
   "metadata": {},
   "outputs": [
    {
     "data": {
      "text/plain": [
       "8"
      ]
     },
     "execution_count": 6,
     "metadata": {},
     "output_type": "execute_result"
    }
   ],
   "source": [
    "random.randrange(-10,10,2)"
   ]
  },
  {
   "cell_type": "code",
   "execution_count": 7,
   "id": "8a7098fa",
   "metadata": {},
   "outputs": [
    {
     "data": {
      "text/plain": [
       "-8.354136490482025"
      ]
     },
     "execution_count": 7,
     "metadata": {},
     "output_type": "execute_result"
    }
   ],
   "source": [
    "random.uniform(-10,10)"
   ]
  },
  {
   "cell_type": "code",
   "execution_count": 8,
   "id": "956474d1",
   "metadata": {},
   "outputs": [],
   "source": [
    "x = 1\n",
    "latitudes = []\n",
    "while x < 11:\n",
    "    random_lat = random.randint(-90, 89) + random.random()\n",
    "    latitudes.append(random_lat)\n",
    "    x += 1"
   ]
  },
  {
   "cell_type": "code",
   "execution_count": 9,
   "id": "2e394e11",
   "metadata": {},
   "outputs": [
    {
     "data": {
      "text/plain": [
       "[-57.58605043033829,\n",
       " -44.77663799075718,\n",
       " -75.06086667514359,\n",
       " -40.753085490186194,\n",
       " 7.545183587395968,\n",
       " -13.317429546792491,\n",
       " -16.26292214579741,\n",
       " 57.990431174800875,\n",
       " 42.93765429403326,\n",
       " -31.614265751076502]"
      ]
     },
     "execution_count": 9,
     "metadata": {},
     "output_type": "execute_result"
    }
   ],
   "source": [
    "latitudes"
   ]
  },
  {
   "cell_type": "code",
   "execution_count": 11,
   "id": "84b0011a",
   "metadata": {},
   "outputs": [
    {
     "data": {
      "text/plain": [
       "-3.1227414996639595"
      ]
     },
     "execution_count": 11,
     "metadata": {},
     "output_type": "execute_result"
    }
   ],
   "source": [
    "np.random.uniform(-90.000, 90.000)"
   ]
  },
  {
   "cell_type": "code",
   "execution_count": 12,
   "id": "bcdf030f",
   "metadata": {},
   "outputs": [
    {
     "data": {
      "text/plain": [
       "array([-42.01159071,  40.38260815, -25.39933576,  59.76426947,\n",
       "        74.38819717,  42.75452411,  30.52986711,  13.44477796,\n",
       "       -83.47266641,  84.11244302,  75.48301853, -38.39173293,\n",
       "       -39.75334026, -46.89104415, -50.78077227, -20.9785357 ,\n",
       "        64.44046908, -21.01658093,  50.39348157,  69.34443759,\n",
       "        25.34784848, -29.32916538,   2.13392631, -15.18012295,\n",
       "        36.57626886, -28.4624962 , -24.82320047,  -6.38482136,\n",
       "       -64.49183862, -42.65238892, -32.39923354,   6.94983266,\n",
       "        70.79362749, -82.39764009, -60.2764877 , -11.3029547 ,\n",
       "        86.06729856, -10.07689499,  44.30611015,   5.52921853,\n",
       "       -48.67796414,  80.37427367,  80.35793243,  54.29156087,\n",
       "        21.4544171 , -42.17867591, -16.89381527, -30.32576138,\n",
       "        89.8336282 ,  35.28550755])"
      ]
     },
     "execution_count": 12,
     "metadata": {},
     "output_type": "execute_result"
    }
   ],
   "source": [
    "np.random.uniform(-90.000, 90.000, size=50)"
   ]
  },
  {
   "cell_type": "code",
   "execution_count": 14,
   "id": "c00e07ea",
   "metadata": {},
   "outputs": [
    {
     "name": "stdout",
     "output_type": "stream",
     "text": [
      "12.4 µs ± 722 ns per loop (mean ± std. dev. of 7 runs, 100000 loops each)\n"
     ]
    }
   ],
   "source": [
    "%timeit np.random.uniform(-90.000, 90.000, size=1500)"
   ]
  },
  {
   "cell_type": "code",
   "execution_count": 15,
   "id": "ce767e0d",
   "metadata": {},
   "outputs": [
    {
     "name": "stdout",
     "output_type": "stream",
     "text": [
      "1.18 ms ± 71.8 µs per loop (mean ± std. dev. of 7 runs, 1000 loops each)\n"
     ]
    }
   ],
   "source": [
    "def latitudes(size):\n",
    "    latitudes = []\n",
    "    x = 0\n",
    "    while x < (size):\n",
    "        random_lat = random.randint(-90, 90) + random.random()\n",
    "        latitudes.append(random_lat)\n",
    "        x += 1\n",
    "    return latitudes\n",
    "# Call the function with 1500.\n",
    "%timeit latitudes(1500)"
   ]
  },
  {
   "cell_type": "code",
   "execution_count": null,
   "id": "f2929375",
   "metadata": {},
   "outputs": [],
   "source": []
  }
 ],
 "metadata": {
  "kernelspec": {
   "display_name": "PythonData",
   "language": "python",
   "name": "pythondata"
  },
  "language_info": {
   "codemirror_mode": {
    "name": "ipython",
    "version": 3
   },
   "file_extension": ".py",
   "mimetype": "text/x-python",
   "name": "python",
   "nbconvert_exporter": "python",
   "pygments_lexer": "ipython3",
   "version": "3.8.8"
  }
 },
 "nbformat": 4,
 "nbformat_minor": 5
}
